{
 "cells": [
  {
   "cell_type": "markdown",
   "id": "122fc412-528d-4eea-9a88-60717bfdda4b",
   "metadata": {},
   "source": [
    "# Lab 0.2 Thao tác với Markdown\n",
    "\n",
    "- Thực hiện mỗi bài tập trên một cell riêng trong Jupyter Notebook.\r",
    "- \n",
    "Dùng Markdown để định dạng nội dung.\r\n"
   ]
  },
  {
   "cell_type": "markdown",
   "id": "250c53b8-2f1a-4b57-8ea1-81f54cb78ed3",
   "metadata": {},
   "source": [
    "## Bài 1: Tạo tiêu đề và đoạn văn\r\n",
    "1. Tạo một tiêu đề \"Markdown Practice\" có kích thước lớn nhất.\r\n",
    "2. Tạo một đoạn văn bên dưới gồm 2 câu với nội dung tùy chọn.\r\n",
    "3. Tạo line break (ngắt dòng) giữa 2 câu trong đoạn văn vừa tạo.\r\n",
    "\n"
   ]
  },
  {
   "cell_type": "markdown",
   "id": "559432ad-c90f-402e-9cbb-7823829a6f57",
   "metadata": {},
   "source": [
    "#### Note:\n",
    "Markdown không chấp nhận việc thiếu dấu cách giữa các dấu thăng (#) và tên tiêu đề. Để đảm bảo tính tương thích, luôn đặt một dấu cách giữa các dấu thăng và tên tiêu đề.\n",
    "| ✅ Do this         | ❌ Don't do this    |\r\n",
    "|--------------------|---------------------|\r\n",
    "| # Here's a Heading| #Here's a Heading  |"
   ]
  },
  {
   "cell_type": "markdown",
   "id": "76e08e2f-0d5d-4d10-a451-557e50a653c0",
   "metadata": {},
   "source": [
    "## Bài 2: Định dạng văn bản\n",
    "1. **In đậm câu đầu tiên trong đoạn văn của bài tập 1.**\n",
    "2. *In nghiêng câu thứ hai trong đoạn văn đó.*\n",
    "3. Tạo một hyperlink để liên kết từ \"Markdown\" trong tiêu đề với trang web [Markdown Guide](https://www.markdownguide.org/).\n"
   ]
  },
  {
   "cell_type": "markdown",
   "id": "f6b3877d-691a-4870-acce-3eacac09b28e",
   "metadata": {},
   "source": [
    "## Bài 3: Tạo danh sách\n",
    "\n",
    "1. Tạo một danh sách có thứ tự với 3 mục liệt kê các bước học AI. Ví dụ:<br>\n",
    "   1. Học Data Science\n",
    "   2. Học Machine Learning\n",
    "   3. Học Deep Learning\n",
    "<br>\n",
    "2. Tạo một danh sách không có thứ tự với 3 mục liệt kê lợi ích của việc học AI. Ví dụ:<br>   \n",
    "   - Tăng kiến thức\n",
    "   - Tăng trải nghiệm\n",
    "   - Tăng lương\n"
   ]
  },
  {
   "cell_type": "markdown",
   "id": "57b69a91-8968-4115-982a-2d697104b496",
   "metadata": {},
   "source": [
    "## Bài 4: Chèn hình ảnh\n",
    "1. Tìm một hình ảnh minh họa cho bài 3.\n",
    "2. Thêm mô tả in đậm cho hình ảnh đó.\n"
   ]
  },
  {
   "cell_type": "markdown",
   "id": "ab7b8ffa-50ae-48b2-b0af-fef217002a4e",
   "metadata": {},
   "source": [
    "## Bài 5: Sử dụng cú pháp Markdown để\n",
    "\n",
    "1. Tạo một bảng có 3 cột và 3 hàng, điền vào số thứ tự, tác giả, tác phẩm bạn yêu thích. Ví dụ:\n",
    "\n",
    "   | STT | Tác giả        | Tác phẩm          |\n",
    "   |-----|----------------|-------------------|\n",
    "   | 1   | Agatha Christie| The ABC murders   |\n",
    "   | 2   | Emily Bronte   | Wuthering Heights |\n",
    "\n",
    "2. Tạo một block quote với một câu trích dẫn yêu thích. Ví dụ:\n",
    "   > \"One of the luckiest things that can happen to you in life is, I think, to have a happy childhood.\" - Agatha Christie"
   ]
  },
  {
   "cell_type": "code",
   "execution_count": null,
   "id": "71cea15e-e7c4-4857-8a78-9d9fca0b4417",
   "metadata": {},
   "outputs": [],
   "source": []
  }
 ],
 "metadata": {
  "kernelspec": {
   "display_name": "Python 3 (ipykernel)",
   "language": "python",
   "name": "python3"
  },
  "language_info": {
   "codemirror_mode": {
    "name": "ipython",
    "version": 3
   },
   "file_extension": ".py",
   "mimetype": "text/x-python",
   "name": "python",
   "nbconvert_exporter": "python",
   "pygments_lexer": "ipython3",
   "version": "3.11.7"
  }
 },
 "nbformat": 4,
 "nbformat_minor": 5
}
